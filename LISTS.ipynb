{
  "nbformat": 4,
  "nbformat_minor": 0,
  "metadata": {
    "colab": {
      "provenance": []
    },
    "kernelspec": {
      "name": "python3",
      "display_name": "Python 3"
    },
    "language_info": {
      "name": "python"
    }
  },
  "cells": [
    {
      "cell_type": "markdown",
      "source": [
        "##lIST\n",
        "*Collection of items in a particular order.\n",
        "*can include strings,integers and any other data types including a list\n",
        "* You can add anything in a list and the items in your list don't have to be related in a particular way.\n",
        "*Use aquare brackets ```[]`` to indicate a list and indivial items in the list are separated by commas.\n",
        "\n",
        "**syntax**: ```[item_1, item_2, Item_3]```"
      ],
      "metadata": {
        "id": "IobNbd_TFTmg"
      }
    },
    {
      "cell_type": "code",
      "source": [
        "#example\n",
        "fruits = [\"mango\",\"Banana\",\"Orange\",\"Apple\",1]\n",
        "print(fruits)"
      ],
      "metadata": {
        "colab": {
          "base_uri": "https://localhost:8080/"
        },
        "id": "W60djgWkG3L_",
        "outputId": "7d9a22ae-2db7-431b-ca2a-7c2e798f5bc7"
      },
      "execution_count": null,
      "outputs": [
        {
          "output_type": "stream",
          "name": "stdout",
          "text": [
            "['mango', 'Banana', 'Orange', 'Apple', 1]\n"
          ]
        }
      ]
    },
    {
      "cell_type": "code",
      "execution_count": null,
      "metadata": {
        "colab": {
          "base_uri": "https://localhost:8080/"
        },
        "id": "Zs2Gyh4IEcUt",
        "outputId": "d043d365-42bd-4cf8-a737-04efe8bd08ab"
      },
      "outputs": [
        {
          "output_type": "execute_result",
          "data": {
            "text/plain": [
              "list"
            ]
          },
          "metadata": {},
          "execution_count": 3
        }
      ],
      "source": [
        "type(fruits)"
      ]
    },
    {
      "cell_type": "code",
      "source": [
        "#example 2\n",
        "phone_no = [142536,67845,788565699]"
      ],
      "metadata": {
        "id": "BAR5acBbHqTX"
      },
      "execution_count": null,
      "outputs": []
    },
    {
      "cell_type": "markdown",
      "source": [
        "## accesing items in a list\n",
        "*Lists are ordered collections, i.e you can acces individual items in a list by telling python the posisition of an item in a list is refered to as *index*\n",
        "*Syntax to acces items in a list\n",
        "*index position start at 0\n",
        "\n",
        "list_name[index]"
      ],
      "metadata": {
        "id": "Hc3EghEFIKfP"
      }
    },
    {
      "cell_type": "code",
      "source": [
        "#Accessing items in a list\n",
        "#access banana\n",
        "print(fruits[1])\n",
        "\n",
        "#changing case\n",
        "print(fruits[3].upper())\n",
        "#using negative indexing starts with the last atem\n",
        "#starts -1\n",
        "print(fruits[-1])"
      ],
      "metadata": {
        "colab": {
          "base_uri": "https://localhost:8080/"
        },
        "id": "e4hdNzNLH9v_",
        "outputId": "58cf0746-6bf4-4f07-ba93-a883fa3c073d"
      },
      "execution_count": null,
      "outputs": [
        {
          "output_type": "stream",
          "name": "stdout",
          "text": [
            "Banana\n",
            "APPLE\n",
            "1\n"
          ]
        }
      ]
    },
    {
      "cell_type": "code",
      "source": [
        "#using individual items in a list\n",
        "message = f\"Gilbert likes {fruits[-1]}, especially the green ones.\"\n",
        "print(message)"
      ],
      "metadata": {
        "colab": {
          "base_uri": "https://localhost:8080/"
        },
        "id": "wqxPCOx0K3SH",
        "outputId": "25378b77-0ca3-41b3-9c2a-ed853811731c"
      },
      "execution_count": null,
      "outputs": [
        {
          "output_type": "stream",
          "name": "stdout",
          "text": [
            "Gilbert likes 1, especially the green ones.\n"
          ]
        }
      ]
    },
    {
      "cell_type": "markdown",
      "source": [
        "##MODIFYING , ADDING AND REMOVING ITEMS IN A LIST\n",
        "*Lists are dynamic i.e Most of the list you will add items and creat,remove and delete the entire list"
      ],
      "metadata": {
        "id": "0dLRd17GMhHE"
      }
    },
    {
      "cell_type": "markdown",
      "source": [
        "#"
      ],
      "metadata": {
        "id": "c9vGWp66NGue"
      }
    },
    {
      "cell_type": "code",
      "source": [
        "#modifying items in a list\n",
        "courts = ['Supreme', 'high coat']\n",
        "print(courts)"
      ],
      "metadata": {
        "colab": {
          "base_uri": "https://localhost:8080/"
        },
        "id": "B9R98lavNNvW",
        "outputId": "9f3958fe-3fff-4636-d1cc-70cc334b9c94"
      },
      "execution_count": null,
      "outputs": [
        {
          "output_type": "stream",
          "name": "stdout",
          "text": [
            "['Supreme', 'high coat']\n"
          ]
        }
      ]
    },
    {
      "cell_type": "code",
      "source": [
        "# access the court first the assign the courrected versios i.e court[1]\n",
        "courts[1] = \"High Court\"\n",
        "print(courts)"
      ],
      "metadata": {
        "colab": {
          "base_uri": "https://localhost:8080/"
        },
        "id": "6BKivvz5NpV_",
        "outputId": "d2aed3dc-ca0c-4b50-8a4f-a9aaf53e0321"
      },
      "execution_count": null,
      "outputs": [
        {
          "output_type": "stream",
          "name": "stdout",
          "text": [
            "['Supreme', 'High Court']\n"
          ]
        }
      ]
    },
    {
      "cell_type": "markdown",
      "source": [
        "Adding items to a list-introducing new items to the list"
      ],
      "metadata": {
        "id": "vDwGd_oyOZ3u"
      }
    },
    {
      "cell_type": "code",
      "source": [
        "#Adding items to a list-introducing new items to the list\n",
        "# 1. adding an elements at the end of a list . you append(item)\n",
        "courts.append(\"magistrtate court\")\n",
        "print(courts)\n",
        "\n",
        "# 2. Insert an item at a specific position we want\n",
        "    # syntax .insert(index,item)\n",
        "\n",
        "#Example insert court of appeal in the list of courts Nb: if you run twice it will add another one put condions\n",
        "courts.insert(1,\"court of appeal\")\n",
        "print(courts)\n"
      ],
      "metadata": {
        "colab": {
          "base_uri": "https://localhost:8080/"
        },
        "id": "E3ygoSIDObcw",
        "outputId": "4044772b-1098-45e8-bfe2-b51dc0bb1a63"
      },
      "execution_count": null,
      "outputs": [
        {
          "output_type": "stream",
          "name": "stdout",
          "text": [
            "['Supreme', 'court of appeal', 'High Court', 'magistrtate court', 'magistrtate court', 'magistrtate court']\n",
            "['Supreme', 'court of appeal', 'court of appeal', 'High Court', 'magistrtate court', 'magistrtate court', 'magistrtate court']\n"
          ]
        }
      ]
    },
    {
      "cell_type": "code",
      "source": [
        "#removing items in a list\n",
        "#1. using .pop() removes an item at the end of a list\n",
        "fruits.pop() # the item \"1\" in the list is removed note if you run twice the next fruit is removed\n",
        "print(fruits)\n",
        "\n",
        "#2 use .pop(index)\n",
        "fruits.pop(0)\n",
        "print(fruits)"
      ],
      "metadata": {
        "colab": {
          "base_uri": "https://localhost:8080/",
          "height": 253
        },
        "id": "3x4NzREZPSou",
        "outputId": "cd5eb8f8-9f42-4008-d20b-718ccaa13233"
      },
      "execution_count": null,
      "outputs": [
        {
          "output_type": "error",
          "ename": "IndexError",
          "evalue": "ignored",
          "traceback": [
            "\u001b[0;31m---------------------------------------------------------------------------\u001b[0m",
            "\u001b[0;31mIndexError\u001b[0m                                Traceback (most recent call last)",
            "\u001b[0;32m<ipython-input-26-615e2055dd87>\u001b[0m in \u001b[0;36m<cell line: 3>\u001b[0;34m()\u001b[0m\n\u001b[1;32m      1\u001b[0m \u001b[0;31m#removing items in a list\u001b[0m\u001b[0;34m\u001b[0m\u001b[0;34m\u001b[0m\u001b[0m\n\u001b[1;32m      2\u001b[0m \u001b[0;31m#1. using .pop() removes an item at the end of a list\u001b[0m\u001b[0;34m\u001b[0m\u001b[0;34m\u001b[0m\u001b[0m\n\u001b[0;32m----> 3\u001b[0;31m \u001b[0mfruits\u001b[0m\u001b[0;34m.\u001b[0m\u001b[0mpop\u001b[0m\u001b[0;34m(\u001b[0m\u001b[0;34m)\u001b[0m \u001b[0;31m# the item \"1\" in the list is removed note if you run twice the next fruit is removed\u001b[0m\u001b[0;34m\u001b[0m\u001b[0;34m\u001b[0m\u001b[0m\n\u001b[0m\u001b[1;32m      4\u001b[0m \u001b[0mprint\u001b[0m\u001b[0;34m(\u001b[0m\u001b[0mfruits\u001b[0m\u001b[0;34m)\u001b[0m\u001b[0;34m\u001b[0m\u001b[0;34m\u001b[0m\u001b[0m\n\u001b[1;32m      5\u001b[0m \u001b[0;34m\u001b[0m\u001b[0m\n",
            "\u001b[0;31mIndexError\u001b[0m: pop from empty list"
          ]
        }
      ]
    },
    {
      "cell_type": "code",
      "source": [
        "#3. Use .remove(item_value) to remove item by value #use when you don't know its index of item\n",
        "courts.remove(\"High Court\")\n",
        "print(courts)"
      ],
      "metadata": {
        "colab": {
          "base_uri": "https://localhost:8080/"
        },
        "id": "fx0ag4snT3tP",
        "outputId": "0e42b90d-af62-4ad2-b4ed-4a0a250692d3"
      },
      "execution_count": null,
      "outputs": [
        {
          "output_type": "stream",
          "name": "stdout",
          "text": [
            "['Supreme', 'court of appeal', 'court of appeal', 'magistrtate court', 'magistrtate court', 'magistrtate court']\n"
          ]
        }
      ]
    },
    {
      "cell_type": "code",
      "source": [
        "#Using delete(del) statement to remove item in a list\n",
        "#syntax del list_name[index]\n",
        "del courts[1]\n",
        "print(courts)"
      ],
      "metadata": {
        "colab": {
          "base_uri": "https://localhost:8080/"
        },
        "id": "f_HQTvAiTvsP",
        "outputId": "d4fe5eb0-3ce4-46c1-b630-918f00263c13"
      },
      "execution_count": null,
      "outputs": [
        {
          "output_type": "stream",
          "name": "stdout",
          "text": [
            "['Supreme', 'court of appeal', 'magistrtate court', 'magistrtate court', 'magistrtate court']\n"
          ]
        }
      ]
    },
    {
      "cell_type": "markdown",
      "source": [
        "##DICTIONARY\n",
        ". we access values using \"Key\""
      ],
      "metadata": {
        "id": "P0TI4P8ie6qH"
      }
    },
    {
      "cell_type": "code",
      "source": [],
      "metadata": {
        "id": "O7ykEZiJTsDX"
      },
      "execution_count": null,
      "outputs": []
    },
    {
      "cell_type": "code",
      "source": [
        "Fruit_list = [\"mango\",[\"PawPaw\",\"Oranges\"],\"Guava\"] # this list has three items i.e mango, next set(paw and oranges) and then Oranges\n",
        "print(Fruit_list[1])#  accessing the  set number two (paw paw and oranges)\n",
        "print(Fruit_list[1][1].upper()) # capitalizing the Orange"
      ],
      "metadata": {
        "colab": {
          "base_uri": "https://localhost:8080/"
        },
        "id": "5CKAwlG0fLsD",
        "outputId": "4fb9c499-0ee7-423d-a75f-abef68be26b2"
      },
      "execution_count": null,
      "outputs": [
        {
          "output_type": "stream",
          "name": "stdout",
          "text": [
            "['PawPaw', 'Oranges']\n",
            "ORANGES\n"
          ]
        }
      ]
    },
    {
      "cell_type": "code",
      "source": [
        "noise_makers = [\"Antonny\",\"Kocheli\",\"Kirui\",\"Chemu\",\"Nyambane\"]\n",
        "#checking item in a list\n",
        "if \"Antonny\" in noise_makers:\n",
        "    print(\"Present\")\n",
        "\n",
        "\n",
        "    #Adding items not in list\n",
        "if \"Margaret\" in noise_makers: # operation of bolean\n",
        "    print(present)\n",
        "else:\n",
        "    noise_makers.append(\"Margaret\")\n",
        "    print(noise_makers)\n"
      ],
      "metadata": {
        "colab": {
          "base_uri": "https://localhost:8080/"
        },
        "id": "WVdEWhZojWy8",
        "outputId": "02a513d0-370f-4759-9cab-9909fd4ba1a7"
      },
      "execution_count": null,
      "outputs": [
        {
          "output_type": "stream",
          "name": "stdout",
          "text": [
            "Present\n",
            "['Antonny', 'Kocheli', 'Kirui', 'Chemu', 'Nyambane', 'Margaret']\n"
          ]
        }
      ]
    },
    {
      "cell_type": "code",
      "source": [
        "# checking item not in the list\n",
        "if \"Everlyne\" not in noise_makers:\n",
        "    print(\"List corrupted\")\n",
        "# Adding the name in the list\n",
        "noise_makers.insert(0,\"Everlyne\") #inserting in the first position\n",
        "print(noise_makers)"
      ],
      "metadata": {
        "colab": {
          "base_uri": "https://localhost:8080/"
        },
        "id": "lObr_zbQnPm4",
        "outputId": "21d9b45d-1057-45f0-9403-e703034ccf3a"
      },
      "execution_count": null,
      "outputs": [
        {
          "output_type": "stream",
          "name": "stdout",
          "text": [
            "['Everlyne', 'Everlyne', 'Antonny', 'Kocheli', 'Kirui', 'Chemu', 'Nyambane', 'Margaret']\n"
          ]
        }
      ]
    },
    {
      "cell_type": "markdown",
      "source": [
        "## Determining the length of your list"
      ],
      "metadata": {
        "id": "SQ8ERJp2qitp"
      }
    },
    {
      "cell_type": "code",
      "source": [
        "#functions\n",
        "#size of a list\n",
        "len(noise_makers)\n"
      ],
      "metadata": {
        "colab": {
          "base_uri": "https://localhost:8080/"
        },
        "id": "tDpwSuuyqOpX",
        "outputId": "82eb00e8-cd77-4131-cecb-b3902f29a57b"
      },
      "execution_count": null,
      "outputs": [
        {
          "output_type": "execute_result",
          "data": {
            "text/plain": [
              "8"
            ]
          },
          "metadata": {},
          "execution_count": 23
        }
      ]
    },
    {
      "cell_type": "code",
      "source": [
        "# CREATING LIST OF NUMBERS\n",
        "number = [1,2,3,4"
      ],
      "metadata": {
        "id": "kV1kuNiWrb9C"
      },
      "execution_count": null,
      "outputs": []
    },
    {
      "cell_type": "code",
      "source": [
        "countries = ['Croatia',\n",
        "\n",
        "'USA',\n",
        "\n",
        "'Argentina',\n",
        "\n",
        "'Mexico',\n",
        "\n",
        "'USA',\n",
        "\n",
        "'Morocco',\n",
        "\n",
        "'New Mexico',\n",
        "\n",
        "'Finland',\n",
        "\n",
        "'Argentina',\n",
        "\n",
        "'Italy',\n",
        "\n",
        "'Canada',\n",
        "\n",
        "'South Korea']\n",
        "\n",
        "italy = None # 'Italy'\n",
        "\n",
        "italy = (countries[9])\n",
        "print(italy)\n"
      ],
      "metadata": {
        "colab": {
          "base_uri": "https://localhost:8080/"
        },
        "id": "tYIBdf3HL2rS",
        "outputId": "235076e0-6c0d-44b5-a89a-347e2e3c13f0"
      },
      "execution_count": null,
      "outputs": [
        {
          "output_type": "stream",
          "name": "stdout",
          "text": [
            "Italy\n"
          ]
        }
      ]
    },
    {
      "cell_type": "code",
      "source": [
        "mexico = None\n",
        "\n",
        "mexico = (countries[3])\n",
        "print(mexico)"
      ],
      "metadata": {
        "colab": {
          "base_uri": "https://localhost:8080/"
        },
        "id": "9cHYPAfVRGdC",
        "outputId": "f9ed746c-7229-4e9b-81cf-7da237794aac"
      },
      "execution_count": null,
      "outputs": [
        {
          "output_type": "stream",
          "name": "stdout",
          "text": [
            "Mexico\n"
          ]
        }
      ]
    },
    {
      "cell_type": "code",
      "source": [
        "kindof_neighbors = None\n",
        "\n",
        "kindof_neighbors = f\"{countries[1]}, {countries[2]},{countries[3]},{countries[4]}\"\n",
        "print(kindof_neighbors)"
      ],
      "metadata": {
        "colab": {
          "base_uri": "https://localhost:8080/"
        },
        "id": "n6ua0VwZRxV8",
        "outputId": "44d1a369-bd3b-4e7f-f81d-480c4f8cb913"
      },
      "execution_count": null,
      "outputs": [
        {
          "output_type": "stream",
          "name": "stdout",
          "text": [
            "USA, Argentina,Mexico,USA\n"
          ]
        }
      ]
    },
    {
      "cell_type": "code",
      "source": [
        "#Adding a country into the list\n",
        "countries.append('Malta')\n",
        "print(countries)\n",
        "del countries[13]\n",
        "print(countries)"
      ],
      "metadata": {
        "colab": {
          "base_uri": "https://localhost:8080/"
        },
        "id": "0IGtPklpWZjw",
        "outputId": "1f8538a2-f22c-4ead-e7a8-c786cc188ff6"
      },
      "execution_count": null,
      "outputs": [
        {
          "output_type": "stream",
          "name": "stdout",
          "text": [
            "['Croatia', 'USA', 'Argentina', 'Mexico', 'USA', 'Morocco', 'New Mexico', 'Finland', 'Argentina', 'Italy', 'Canada', 'South Korea', 'Malta', 'Malta', 'Malta']\n",
            "['Croatia', 'USA', 'Argentina', 'Mexico', 'USA', 'Morocco', 'New Mexico', 'Finland', 'Argentina', 'Italy', 'Canada', 'South Korea', 'Malta', 'Malta']\n"
          ]
        }
      ]
    },
    {
      "cell_type": "code",
      "source": [
        "#adding Thailand into the list\n",
        "countries.append('Thailand')"
      ],
      "metadata": {
        "id": "0DMbXaeAXzbR"
      },
      "execution_count": null,
      "outputs": []
    },
    {
      "cell_type": "code",
      "source": [
        "print(countries)"
      ],
      "metadata": {
        "colab": {
          "base_uri": "https://localhost:8080/"
        },
        "id": "2NLV581_YMNc",
        "outputId": "dba0ba98-c974-46d2-82ee-bb5e0a3e8742"
      },
      "execution_count": null,
      "outputs": [
        {
          "output_type": "stream",
          "name": "stdout",
          "text": [
            "['Croatia', 'USA', 'Argentina', 'Mexico', 'USA', 'Morocco', 'New Mexico', 'Finland', 'Argentina', 'Italy', 'Canada', 'South Korea', 'Malta', 'Malta', 'Thailand']\n"
          ]
        }
      ]
    },
    {
      "cell_type": "code",
      "source": [
        "#modify a list # change New Mexico to USA\n",
        "countries[6] = 'USA'\n",
        "print(countries)"
      ],
      "metadata": {
        "colab": {
          "base_uri": "https://localhost:8080/"
        },
        "id": "ck8hRBKKaBZF",
        "outputId": "ccd92726-3632-4454-df4a-9be1b021c6cc"
      },
      "execution_count": null,
      "outputs": [
        {
          "output_type": "stream",
          "name": "stdout",
          "text": [
            "['Croatia', 'USA', 'Argentina', 'Mexico', 'USA', 'Morocco', 'USA', 'Finland', 'Argentina', 'Italy', 'Canada', 'South Korea', 'Malta', 'Malta', 'Thailand']\n"
          ]
        }
      ]
    },
    {
      "cell_type": "code",
      "source": [
        "#Removing Thailand from the list\n",
        "countries.pop()\n",
        "print(countries)"
      ],
      "metadata": {
        "colab": {
          "base_uri": "https://localhost:8080/"
        },
        "id": "ctmReIIDa3N6",
        "outputId": "b19bffed-e90e-4098-ce9f-8362281ed463"
      },
      "execution_count": null,
      "outputs": [
        {
          "output_type": "stream",
          "name": "stdout",
          "text": [
            "['Croatia', 'USA', 'Argentina', 'Mexico', 'USA', 'Morocco', 'USA', 'Finland', 'Argentina', 'Italy', 'Canada', 'South Korea', 'Malta']\n"
          ]
        }
      ]
    },
    {
      "cell_type": "markdown",
      "source": [
        "#REMOVING DUBLICATES FROM A LIST WE USE **SET(put your list here)** AND **LIST**"
      ],
      "metadata": {
        "id": "qp4T9bs4d2_R"
      }
    },
    {
      "cell_type": "code",
      "source": [
        "# Removing duplicated from the countries\n",
        "unique_countries = None # our new variable\n",
        "unique_countries = list(set(countries))\n",
        "print(unique_countries)"
      ],
      "metadata": {
        "colab": {
          "base_uri": "https://localhost:8080/"
        },
        "id": "IRZJ_7fmdMQe",
        "outputId": "a1c0fa20-a433-46fd-a32f-9b82342c2fcd"
      },
      "execution_count": null,
      "outputs": [
        {
          "output_type": "stream",
          "name": "stdout",
          "text": [
            "['Argentina', 'South Korea', 'Italy', 'Malta', 'Morocco', 'Mexico', 'Canada', 'Croatia', 'Finland', 'USA']\n"
          ]
        }
      ]
    },
    {
      "cell_type": "code",
      "source": [
        "sizecountries = len(countries)\n",
        "print(sizecountries)"
      ],
      "metadata": {
        "colab": {
          "base_uri": "https://localhost:8080/"
        },
        "id": "W8iEuU-OiYHg",
        "outputId": "500a2e15-9ec4-4da5-8f0a-ca6d1f0f83fa"
      },
      "execution_count": 30,
      "outputs": [
        {
          "output_type": "stream",
          "name": "stdout",
          "text": [
            "13\n"
          ]
        }
      ]
    },
    {
      "cell_type": "code",
      "source": [
        "sizeuniquecountries = len(unique_countries)\n",
        "print(sizeuniquecountries)"
      ],
      "metadata": {
        "colab": {
          "base_uri": "https://localhost:8080/"
        },
        "id": "xLCmHttijdH4",
        "outputId": "c385d715-8bb4-403e-9557-5615c0ae2e94"
      },
      "execution_count": 31,
      "outputs": [
        {
          "output_type": "stream",
          "name": "stdout",
          "text": [
            "10\n"
          ]
        }
      ]
    },
    {
      "cell_type": "code",
      "source": [
        "number_of_repeats =sizecountries-sizeuniquecountries\n",
        "print(number_of_repeats)"
      ],
      "metadata": {
        "colab": {
          "base_uri": "https://localhost:8080/"
        },
        "id": "d2R547zrq_AG",
        "outputId": "06dbd0d7-8359-4b8a-bf4d-f32572d1117d"
      },
      "execution_count": 35,
      "outputs": [
        {
          "output_type": "stream",
          "name": "stdout",
          "text": [
            "3\n"
          ]
        }
      ]
    }
  ]
}