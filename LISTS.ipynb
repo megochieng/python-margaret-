{
  "nbformat": 4,
  "nbformat_minor": 0,
  "metadata": {
    "colab": {
      "provenance": []
    },
    "kernelspec": {
      "name": "python3",
      "display_name": "Python 3"
    },
    "language_info": {
      "name": "python"
    }
  },
  "cells": [
    {
      "cell_type": "markdown",
      "source": [
        "##lIST\n",
        "*Collection of items in a particular order.\n",
        "*can include strings,integers and any other data types including a list\n",
        "* You can add anything in a list and the items in your list don't have to be related in a particular way.\n",
        "*Use aquare brackets ```[]`` to indicate a list and indivial items in the list are separated by commas.\n",
        "\n",
        "**syntax**: ```[item_1, item_2, Item_3]```"
      ],
      "metadata": {
        "id": "IobNbd_TFTmg"
      }
    },
    {
      "cell_type": "code",
      "source": [
        "#example\n",
        "fruits = [\"mango\",\"Banana\",\"Orange\",\"Apple\",1]\n",
        "print(fruits)"
      ],
      "metadata": {
        "colab": {
          "base_uri": "https://localhost:8080/"
        },
        "id": "W60djgWkG3L_",
        "outputId": "7d9a22ae-2db7-431b-ca2a-7c2e798f5bc7"
      },
      "execution_count": 2,
      "outputs": [
        {
          "output_type": "stream",
          "name": "stdout",
          "text": [
            "['mango', 'Banana', 'Orange', 'Apple', 1]\n"
          ]
        }
      ]
    },
    {
      "cell_type": "code",
      "execution_count": 3,
      "metadata": {
        "colab": {
          "base_uri": "https://localhost:8080/"
        },
        "id": "Zs2Gyh4IEcUt",
        "outputId": "d043d365-42bd-4cf8-a737-04efe8bd08ab"
      },
      "outputs": [
        {
          "output_type": "execute_result",
          "data": {
            "text/plain": [
              "list"
            ]
          },
          "metadata": {},
          "execution_count": 3
        }
      ],
      "source": [
        "type(fruits)"
      ]
    },
    {
      "cell_type": "code",
      "source": [
        "#example 2\n",
        "phone_no = [142536,67845,788565699]"
      ],
      "metadata": {
        "id": "BAR5acBbHqTX"
      },
      "execution_count": 4,
      "outputs": []
    },
    {
      "cell_type": "markdown",
      "source": [
        "## accesing items in a list\n",
        "*Lists are ordered collections, i.e you can acces individual items in a list by telling python the posisition of an item in a list is refered to as *index*\n",
        "*Syntax to acces items in a list\n",
        "*index position start at 0\n",
        "\n",
        "list_name[index]"
      ],
      "metadata": {
        "id": "Hc3EghEFIKfP"
      }
    },
    {
      "cell_type": "code",
      "source": [
        "#Accessing items in a list\n",
        "#access banana\n",
        "print(fruits[1])\n",
        "\n",
        "#changing case\n",
        "print(fruits[3].upper())\n",
        "#using negative indexing starts with the last atem\n",
        "#starts -1\n",
        "print(fruits[-1])"
      ],
      "metadata": {
        "colab": {
          "base_uri": "https://localhost:8080/"
        },
        "id": "e4hdNzNLH9v_",
        "outputId": "58cf0746-6bf4-4f07-ba93-a883fa3c073d"
      },
      "execution_count": 7,
      "outputs": [
        {
          "output_type": "stream",
          "name": "stdout",
          "text": [
            "Banana\n",
            "APPLE\n",
            "1\n"
          ]
        }
      ]
    },
    {
      "cell_type": "code",
      "source": [
        "#using individual items in a list\n",
        "message = f\"Gilbert likes {fruits[-1]}, especially the green ones.\"\n",
        "print(message)"
      ],
      "metadata": {
        "colab": {
          "base_uri": "https://localhost:8080/"
        },
        "id": "wqxPCOx0K3SH",
        "outputId": "25378b77-0ca3-41b3-9c2a-ed853811731c"
      },
      "execution_count": 10,
      "outputs": [
        {
          "output_type": "stream",
          "name": "stdout",
          "text": [
            "Gilbert likes 1, especially the green ones.\n"
          ]
        }
      ]
    },
    {
      "cell_type": "markdown",
      "source": [
        "##MODIFYING , ADDING AND REMOVING ITEMS IN A LIST\n",
        "*Lists are dynamic i.e Most of the list you will add items and creat,remove and delete the entire list"
      ],
      "metadata": {
        "id": "0dLRd17GMhHE"
      }
    },
    {
      "cell_type": "markdown",
      "source": [
        "#"
      ],
      "metadata": {
        "id": "c9vGWp66NGue"
      }
    },
    {
      "cell_type": "code",
      "source": [
        "#modifying items in a list\n",
        "courts = ['Supreme', 'high coat']\n",
        "print(courts)"
      ],
      "metadata": {
        "colab": {
          "base_uri": "https://localhost:8080/"
        },
        "id": "B9R98lavNNvW",
        "outputId": "9f3958fe-3fff-4636-d1cc-70cc334b9c94"
      },
      "execution_count": 12,
      "outputs": [
        {
          "output_type": "stream",
          "name": "stdout",
          "text": [
            "['Supreme', 'high coat']\n"
          ]
        }
      ]
    },
    {
      "cell_type": "code",
      "source": [
        "# access the court first the assign the courrected versios i.e court[1]\n",
        "courts[1] = \"High Court\"\n",
        "print(courts)"
      ],
      "metadata": {
        "colab": {
          "base_uri": "https://localhost:8080/"
        },
        "id": "6BKivvz5NpV_",
        "outputId": "d2aed3dc-ca0c-4b50-8a4f-a9aaf53e0321"
      },
      "execution_count": 14,
      "outputs": [
        {
          "output_type": "stream",
          "name": "stdout",
          "text": [
            "['Supreme', 'High Court']\n"
          ]
        }
      ]
    },
    {
      "cell_type": "markdown",
      "source": [
        "Adding items to a list-introducing new items to the list"
      ],
      "metadata": {
        "id": "vDwGd_oyOZ3u"
      }
    },
    {
      "cell_type": "code",
      "source": [
        "#Adding items to a list-introducing new items to the list\n",
        "# 1. adding an elements at the end of a list . you append(item)\n",
        "courts.append(\"magistrtate court\")\n",
        "print(courts)\n",
        "\n",
        "# 2. Insert an item at a specific position we want\n",
        "    # syntax .insert(index,item)\n",
        "\n",
        "#Example insert court of appeal in the list of courts Nb: if you run twice it will add another one put condions\n",
        "courts.insert(1,\"court of appeal\")\n",
        "print(courts)\n"
      ],
      "metadata": {
        "colab": {
          "base_uri": "https://localhost:8080/"
        },
        "id": "E3ygoSIDObcw",
        "outputId": "4044772b-1098-45e8-bfe2-b51dc0bb1a63"
      },
      "execution_count": 19,
      "outputs": [
        {
          "output_type": "stream",
          "name": "stdout",
          "text": [
            "['Supreme', 'court of appeal', 'High Court', 'magistrtate court', 'magistrtate court', 'magistrtate court']\n",
            "['Supreme', 'court of appeal', 'court of appeal', 'High Court', 'magistrtate court', 'magistrtate court', 'magistrtate court']\n"
          ]
        }
      ]
    },
    {
      "cell_type": "code",
      "source": [
        "#removing items in a list\n",
        "#1. using .pop() removes an item at the end of a list\n",
        "fruits.pop() # the item \"1\" in the list is removed note if you run twice the next fruit is removed\n",
        "print(fruits)\n",
        "\n",
        "#2 use .pop(index)\n",
        "fruits.pop(0)\n",
        "print(fruits)"
      ],
      "metadata": {
        "colab": {
          "base_uri": "https://localhost:8080/",
          "height": 253
        },
        "id": "3x4NzREZPSou",
        "outputId": "cd5eb8f8-9f42-4008-d20b-718ccaa13233"
      },
      "execution_count": 26,
      "outputs": [
        {
          "output_type": "error",
          "ename": "IndexError",
          "evalue": "ignored",
          "traceback": [
            "\u001b[0;31m---------------------------------------------------------------------------\u001b[0m",
            "\u001b[0;31mIndexError\u001b[0m                                Traceback (most recent call last)",
            "\u001b[0;32m<ipython-input-26-615e2055dd87>\u001b[0m in \u001b[0;36m<cell line: 3>\u001b[0;34m()\u001b[0m\n\u001b[1;32m      1\u001b[0m \u001b[0;31m#removing items in a list\u001b[0m\u001b[0;34m\u001b[0m\u001b[0;34m\u001b[0m\u001b[0m\n\u001b[1;32m      2\u001b[0m \u001b[0;31m#1. using .pop() removes an item at the end of a list\u001b[0m\u001b[0;34m\u001b[0m\u001b[0;34m\u001b[0m\u001b[0m\n\u001b[0;32m----> 3\u001b[0;31m \u001b[0mfruits\u001b[0m\u001b[0;34m.\u001b[0m\u001b[0mpop\u001b[0m\u001b[0;34m(\u001b[0m\u001b[0;34m)\u001b[0m \u001b[0;31m# the item \"1\" in the list is removed note if you run twice the next fruit is removed\u001b[0m\u001b[0;34m\u001b[0m\u001b[0;34m\u001b[0m\u001b[0m\n\u001b[0m\u001b[1;32m      4\u001b[0m \u001b[0mprint\u001b[0m\u001b[0;34m(\u001b[0m\u001b[0mfruits\u001b[0m\u001b[0;34m)\u001b[0m\u001b[0;34m\u001b[0m\u001b[0;34m\u001b[0m\u001b[0m\n\u001b[1;32m      5\u001b[0m \u001b[0;34m\u001b[0m\u001b[0m\n",
            "\u001b[0;31mIndexError\u001b[0m: pop from empty list"
          ]
        }
      ]
    },
    {
      "cell_type": "code",
      "source": [
        "#3. Use .remove(item_value) to remove item by value #use when you don't know its index of item\n",
        "courts.remove(\"High Court\")\n",
        "print(courts)"
      ],
      "metadata": {
        "colab": {
          "base_uri": "https://localhost:8080/"
        },
        "id": "fx0ag4snT3tP",
        "outputId": "0e42b90d-af62-4ad2-b4ed-4a0a250692d3"
      },
      "execution_count": 29,
      "outputs": [
        {
          "output_type": "stream",
          "name": "stdout",
          "text": [
            "['Supreme', 'court of appeal', 'court of appeal', 'magistrtate court', 'magistrtate court', 'magistrtate court']\n"
          ]
        }
      ]
    },
    {
      "cell_type": "code",
      "source": [
        "#Using delete(del) statement to remove item in a list\n",
        "#syntax del list_name[index]\n",
        "del courts[1]\n",
        "print(courts)"
      ],
      "metadata": {
        "colab": {
          "base_uri": "https://localhost:8080/"
        },
        "id": "f_HQTvAiTvsP",
        "outputId": "d4fe5eb0-3ce4-46c1-b630-918f00263c13"
      },
      "execution_count": 30,
      "outputs": [
        {
          "output_type": "stream",
          "name": "stdout",
          "text": [
            "['Supreme', 'court of appeal', 'magistrtate court', 'magistrtate court', 'magistrtate court']\n"
          ]
        }
      ]
    },
    {
      "cell_type": "code",
      "source": [],
      "metadata": {
        "id": "O7ykEZiJTsDX"
      },
      "execution_count": null,
      "outputs": []
    }
  ]
}