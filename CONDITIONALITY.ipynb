{
  "nbformat": 4,
  "nbformat_minor": 0,
  "metadata": {
    "colab": {
      "provenance": []
    },
    "kernelspec": {
      "name": "python3",
      "display_name": "Python 3"
    },
    "language_info": {
      "name": "python"
    }
  },
  "cells": [
    {
      "cell_type": "code",
      "execution_count": null,
      "metadata": {
        "colab": {
          "base_uri": "https://localhost:8080/"
        },
        "id": "weDXFY2H4ak4",
        "outputId": "1f8b0832-769f-4fcf-98bd-6919d6884c2e"
      },
      "outputs": [
        {
          "output_type": "stream",
          "name": "stdout",
          "text": [
            "1\n"
          ]
        }
      ],
      "source": [
        "# Leave days\n",
        "leave_days = 0\n",
        "\n",
        "leave_days = leave_days+1\n",
        "print(leave_days)"
      ]
    },
    {
      "cell_type": "code",
      "source": [
        "# increament variable by value\n",
        "leave_days +=1\n",
        "print(leave_days)\n",
        "\n"
      ],
      "metadata": {
        "colab": {
          "base_uri": "https://localhost:8080/"
        },
        "id": "VO02jU0A6HDv",
        "outputId": "4a5f9b36-9d35-4ef6-a34a-27d360e9c165"
      },
      "execution_count": null,
      "outputs": [
        {
          "output_type": "stream",
          "name": "stdout",
          "text": [
            "4\n"
          ]
        }
      ]
    },
    {
      "cell_type": "code",
      "source": [
        "#decreament by value\n",
        "leave_days -=1\n",
        "print(leave_days)"
      ],
      "metadata": {
        "colab": {
          "base_uri": "https://localhost:8080/"
        },
        "id": "aKjfYpEC7TlG",
        "outputId": "00bdf1d6-4fbd-4b4b-cb1e-48d0bbf2b2e1"
      },
      "execution_count": null,
      "outputs": [
        {
          "output_type": "stream",
          "name": "stdout",
          "text": [
            "3\n"
          ]
        }
      ]
    },
    {
      "cell_type": "code",
      "source": [
        "#we three conditional statement if, elsif,\n",
        "leave_days = 21\n",
        "\n",
        "#use boolen\n",
        "take_leave = True\n",
        "\n",
        "# decide to take leave\n",
        "if take_leave: # condition\n",
        "\n",
        "#if condition is met\n",
        "   leave_days -=1\n",
        "\n",
        "   print(leave_days)"
      ],
      "metadata": {
        "colab": {
          "base_uri": "https://localhost:8080/"
        },
        "id": "b8f3ukTa7gs_",
        "outputId": "f0abdd3e-4f00-4295-e493-4ec021bb9bd1"
      },
      "execution_count": null,
      "outputs": [
        {
          "output_type": "stream",
          "name": "stdout",
          "text": [
            "20\n"
          ]
        }
      ]
    },
    {
      "cell_type": "code",
      "source": [
        "grade = 20\n",
        "\n",
        "if grade > 18: #condition\n",
        "    print(\"you can have id\")"
      ],
      "metadata": {
        "colab": {
          "base_uri": "https://localhost:8080/"
        },
        "id": "0z2qu-XQ92Lu",
        "outputId": "c0eee557-9395-450b-b487-1513cbc6e079"
      },
      "execution_count": null,
      "outputs": [
        {
          "output_type": "stream",
          "name": "stdout",
          "text": [
            "you can have id\n"
          ]
        }
      ]
    },
    {
      "cell_type": "code",
      "source": [
        "# If else statements to determine if students have passed of failed\n",
        "score = 45\n",
        "#becau the score is above 40, the only the if staement will be executed\n",
        "if score>40:\n",
        "    outcome = \"Pass\" # code to execute if statement is True\n",
        "    print(outcome) # code to execute when if stetemnet is true\n",
        "#when the student has asored 40 or below\n",
        "else:\n",
        "    outcome = \"Fail\"\n",
        "    print(outcome)"
      ],
      "metadata": {
        "colab": {
          "base_uri": "https://localhost:8080/"
        },
        "id": "Z0Hhs2eq-uTS",
        "outputId": "157bfc64-30ed-461b-eb1e-8925065d5b2d"
      },
      "execution_count": null,
      "outputs": [
        {
          "output_type": "stream",
          "name": "stdout",
          "text": [
            "Pass\n"
          ]
        }
      ]
    },
    {
      "cell_type": "code",
      "source": [
        "# If else statements to determine if students have passed of failed\n",
        "score = 30\n",
        "#becau the score is above 40, the only the if staement will be executed\n",
        "if score>40:\n",
        "    outcome = \"Pass\" # code to execute if statement is True\n",
        "    print(outcome) # code to execute when if stetemnet is true\n",
        "#when the student has asored 40 or below\n",
        "else:\n",
        "    outcome = \"Fail\"\n",
        "    print(outcome)"
      ],
      "metadata": {
        "colab": {
          "base_uri": "https://localhost:8080/"
        },
        "outputId": "7536cea4-5267-496b-de26-fee7773c903d",
        "id": "Cd3SuyovA9se"
      },
      "execution_count": null,
      "outputs": [
        {
          "output_type": "stream",
          "name": "stdout",
          "text": [
            "Fail\n"
          ]
        }
      ]
    },
    {
      "cell_type": "markdown",
      "source": [
        "##And\n",
        "* Used to joind contions\n",
        "* example students who have scored 40 but below 50 are said to have attaine grade D\n",
        "*note- for all the conditions have to be True"
      ],
      "metadata": {
        "id": "376hXZx2BOsG"
      }
    },
    {
      "cell_type": "code",
      "source": [
        "age = 12\n",
        "gender = 'Male'\n",
        "\n",
        "if age < 18 and (gender == 'Male'): #both the two conditions have to be True\n",
        "    print('Boy')"
      ],
      "metadata": {
        "colab": {
          "base_uri": "https://localhost:8080/"
        },
        "id": "83B7onwfCDee",
        "outputId": "00769e55-9f8d-4fbf-dc84-e57dcec5cde4"
      },
      "execution_count": null,
      "outputs": [
        {
          "output_type": "stream",
          "name": "stdout",
          "text": [
            "Boy\n"
          ]
        }
      ]
    },
    {
      "cell_type": "code",
      "source": [],
      "metadata": {
        "id": "BYPUI-JYC70V"
      },
      "execution_count": null,
      "outputs": []
    },
    {
      "cell_type": "code",
      "source": [
        " #condition not met other condition not defined\n",
        "age = 19\n",
        "gender = 'Male'\n",
        "\n",
        "if age < 18 and (gender == 'Male'): #both the two conditions have to be True\n",
        "    print('Boy')"
      ],
      "metadata": {
        "id": "WXVT7YalDBo3"
      },
      "execution_count": null,
      "outputs": []
    },
    {
      "cell_type": "code",
      "source": [],
      "metadata": {
        "id": "pCl6Q8fTC0gr"
      },
      "execution_count": null,
      "outputs": []
    },
    {
      "cell_type": "markdown",
      "source": [
        "\n",
        "##And Condition Summary\n",
        "\n",
        "|Condition 1| Condition 2| Final Condition|\n",
        "|:---------:|:----------:|:--------------:|\n",
        "|True|True|True|\n",
        "|True|False|False|\n",
        "|False|True|False|\n",
        "|False|False|False|\n",
        "\n"
      ],
      "metadata": {
        "id": "02U96RCLDLrT"
      }
    },
    {
      "cell_type": "markdown",
      "source": [
        "##Conditions for\n",
        "\n",
        "*above 40 >>D\n",
        "*above 50 >>c\n",
        "above 60 >>B\n",
        "above 70 >>A\n",
        "below 40 >> fail"
      ],
      "metadata": {
        "id": "esTiivRVGZqe"
      }
    },
    {
      "cell_type": "code",
      "source": [
        "#Grades\n",
        "grade = 67\n",
        "\n",
        "if (grade >= 40) and (grade <50):\n",
        "    grade = \"D\"\n",
        "    print(grade)\n",
        "   # elif statement (alse if)\n",
        "elif (grade >50) and (grade <=60):\n",
        "    grade = 'C'\n",
        "    print(grade)\n",
        "elif (grade >= 60) and (grade < 70):\n",
        "    grade = 'B'\n",
        "    print(grade)\n",
        "\n",
        "elif (grade >=70): #score above 70\n",
        "    grade = \"A\"\n",
        "    print(grade)\n",
        "else:                   #alternative\n",
        "    print(\"Fail\")\n"
      ],
      "metadata": {
        "id": "GzlMuZTyFQsR",
        "colab": {
          "base_uri": "https://localhost:8080/"
        },
        "outputId": "66f48da4-34be-4296-c4cb-a88604b9b6db"
      },
      "execution_count": null,
      "outputs": [
        {
          "output_type": "stream",
          "name": "stdout",
          "text": [
            "B\n"
          ]
        }
      ]
    },
    {
      "cell_type": "markdown",
      "source": [
        "##OR CONDITION\n",
        ".Atleast one condition should be true"
      ],
      "metadata": {
        "id": "WSS91AsqK6tt"
      }
    },
    {
      "cell_type": "code",
      "source": [
        "height = 45\n",
        "weight = 20\n",
        "if (height >40) or (weight >50):\n",
        "    print(\"you can go into the bouncing castle\")"
      ],
      "metadata": {
        "colab": {
          "base_uri": "https://localhost:8080/"
        },
        "id": "-y7ZUnTELUXN",
        "outputId": "079842b6-fd30-4715-c993-0ef89aff21f0"
      },
      "execution_count": null,
      "outputs": [
        {
          "output_type": "stream",
          "name": "stdout",
          "text": [
            "you can go into the bouncing castle\n"
          ]
        }
      ]
    },
    {
      "cell_type": "code",
      "source": [
        "#condition not met and else condition not defined: hence no output\n",
        "height = 45\n",
        "weight = 20\n",
        "if (height <40) or (weight >50):\n",
        "    print(\"you can go into the bouncing castle\")"
      ],
      "metadata": {
        "id": "UFHEsNxnMdXF"
      },
      "execution_count": null,
      "outputs": []
    },
    {
      "cell_type": "code",
      "source": [
        "#condition not met and else condition defined: hence no output\n",
        "height = 45\n",
        "weight = 20\n",
        "if (height <40) or (weight >50):\n",
        "    print(\"you can go into the bouncing castle\")\n",
        "else:\n",
        "    print(0)"
      ],
      "metadata": {
        "colab": {
          "base_uri": "https://localhost:8080/"
        },
        "id": "-SQS772gNXLU",
        "outputId": "ee34f37b-df8d-4ab5-e10a-a6f8349d93d4"
      },
      "execution_count": null,
      "outputs": [
        {
          "output_type": "stream",
          "name": "stdout",
          "text": [
            "0\n"
          ]
        }
      ]
    },
    {
      "cell_type": "code",
      "source": [
        "#Q1 Determination whether number is even or odd\n",
        "number = 23\n",
        "if (number%2==0):\n",
        "    print('Even')\n",
        "else:\n",
        "    print('Odd')\n",
        "#Alternative print format\n",
        "number = 22\n",
        "if (number%2==0):\n",
        "    print(f\"{number} is an even number.\")\n",
        "else:\n",
        "    print(f\"{number} is an odd number.\")\n",
        "\n"
      ],
      "metadata": {
        "colab": {
          "base_uri": "https://localhost:8080/",
          "height": 0
        },
        "id": "9GJQAWXUet0K",
        "outputId": "b39ee2c4-c26b-47c0-eb78-dd1ae455e468"
      },
      "execution_count": 72,
      "outputs": [
        {
          "output_type": "stream",
          "name": "stdout",
          "text": [
            "Odd\n",
            "22 is an even number.\n"
          ]
        }
      ]
    },
    {
      "cell_type": "markdown",
      "source": [
        "\n",
        ". Age < 13  price Ksh 400\n",
        ".13 <= Age <=17 Ksh 600\n",
        ".18 <= Age 65 <= Ksh 800\n",
        ".Age > 65 Ksh 350"
      ],
      "metadata": {
        "id": "uQvi0hBLl_ua"
      }
    },
    {
      "cell_type": "code",
      "source": [
        "#Q2 determining leap year\n",
        "year =2000\n",
        "if (year %4 ==0) and (year %100!=0) or (year %400==0):\n",
        "    print(\"Leap year\")\n",
        "else:\n",
        "    print('Not a leap year')\n",
        "#alternative print format\n",
        "year =2003\n",
        "if (year %4 ==0) and (year %100!=0) or (year %400==0):\n",
        "    print(f\"{year} is a Leap year.\")\n",
        "else:\n",
        "    print(f\"{year} is not Not a leap year.\")"
      ],
      "metadata": {
        "colab": {
          "base_uri": "https://localhost:8080/"
        },
        "id": "G-Qud9XdhhHB",
        "outputId": "40c50d8e-fbd7-42d6-ee29-72760f136ccd"
      },
      "execution_count": 76,
      "outputs": [
        {
          "output_type": "stream",
          "name": "stdout",
          "text": [
            "Leap year\n",
            "2003 is not Not a leap year.\n"
          ]
        }
      ]
    },
    {
      "cell_type": "code",
      "source": [
        "\n",
        "\n",
        "\n",
        "# Q3: Determination of price of movie theatre\n",
        "age =106\n",
        "if (age <13):\n",
        "   price = ('Ksh 400')\n",
        "   print(price)\n",
        "elif (age >13) and (age <=17):\n",
        "    price = ('Kshs 600')\n",
        "    print(price)\n",
        "elif (age >=18 and (age <=65)):\n",
        "    price = ('Ksh 800')\n",
        "    print(price)\n",
        "elif (age > 60):\n",
        "    price = ('Kshs 350')\n",
        "    print(price)\n"
      ],
      "metadata": {
        "colab": {
          "base_uri": "https://localhost:8080/"
        },
        "id": "LX5xTlIrQn71",
        "outputId": "abe05093-d1bd-4483-865e-b9acba69c022"
      },
      "execution_count": null,
      "outputs": [
        {
          "output_type": "stream",
          "name": "stdout",
          "text": [
            "Kshs 350\n"
          ]
        }
      ]
    }
  ]
}