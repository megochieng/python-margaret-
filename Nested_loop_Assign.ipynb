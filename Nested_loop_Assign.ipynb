{
  "nbformat": 4,
  "nbformat_minor": 0,
  "metadata": {
    "colab": {
      "provenance": []
    },
    "kernelspec": {
      "name": "python3",
      "display_name": "Python 3"
    },
    "language_info": {
      "name": "python"
    }
  },
  "cells": [
    {
      "cell_type": "markdown",
      "source": [
        "##Nested loop"
      ],
      "metadata": {
        "id": "Akr2rMzNtbdv"
      }
    },
    {
      "cell_type": "code",
      "execution_count": null,
      "metadata": {
        "id": "8vDeTvvztSbJ"
      },
      "outputs": [],
      "source": [
        " n=10\n",
        " for i in range(n):\n",
        "    for j in range(n-i-1): # Creating spaces before printing Asteric\n",
        "        print(\" \", end=\"\")\n",
        "    for j in range(i + 1):\n",
        "        print(\"*\", end=\"\") # Creating the asterics\n",
        "    print()"
      ]
    }
  ]
}