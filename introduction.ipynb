{
  "cells": [
    {
      "cell_type": "markdown",
      "metadata": {
        "id": "WoQ4WHkH8f8v"
      },
      "source": [
        "# Introduction to Python"
      ]
    },
    {
      "cell_type": "code",
      "source": [],
      "metadata": {
        "id": "Pap-6ipU8tit"
      },
      "execution_count": null,
      "outputs": []
    },
    {
      "cell_type": "markdown",
      "metadata": {
        "id": "nhNJ5yTR8f8z"
      },
      "source": [
        "![python_logo](logo.jpeg)"
      ]
    },
    {
      "cell_type": "markdown",
      "metadata": {
        "id": "yqFCZ2Qz8f80"
      },
      "source": [
        "## Objectives"
      ]
    },
    {
      "cell_type": "markdown",
      "metadata": {
        "id": "_3duYNeN8f80"
      },
      "source": [
        "* Understanding Variables\n",
        "* Python Variable Naming Rules\n",
        "* Declaring Variables\n",
        "* Data Types and Type Inference\n",
        "* Variable Assignment\n",
        "* Variable Reassignment\n",
        "* Variable Scope\n",
        "* Best Practices for Variable Usage\n",
        "* Common Mistakes and Troubleshooting\n",
        "* Practical Applications\n",
        "* Exercises and Hands-On Practice"
      ]
    },
    {
      "cell_type": "markdown",
      "metadata": {
        "id": "FjD4GTya8f80"
      },
      "source": [
        "## Poetry"
      ]
    },
    {
      "cell_type": "code",
      "execution_count": null,
      "metadata": {
        "colab": {
          "base_uri": "https://localhost:8080/"
        },
        "id": "W6eOp8UO8f80",
        "outputId": "052c1e42-8ea7-4d8b-c0fe-4f4da5a15e6a"
      },
      "outputs": [
        {
          "output_type": "stream",
          "name": "stdout",
          "text": [
            "The Zen of Python, by Tim Peters\n",
            "\n",
            "Beautiful is better than ugly.\n",
            "Explicit is better than implicit.\n",
            "Simple is better than complex.\n",
            "Complex is better than complicated.\n",
            "Flat is better than nested.\n",
            "Sparse is better than dense.\n",
            "Readability counts.\n",
            "Special cases aren't special enough to break the rules.\n",
            "Although practicality beats purity.\n",
            "Errors should never pass silently.\n",
            "Unless explicitly silenced.\n",
            "In the face of ambiguity, refuse the temptation to guess.\n",
            "There should be one-- and preferably only one --obvious way to do it.\n",
            "Although that way may not be obvious at first unless you're Dutch.\n",
            "Now is better than never.\n",
            "Although never is often better than *right* now.\n",
            "If the implementation is hard to explain, it's a bad idea.\n",
            "If the implementation is easy to explain, it may be a good idea.\n",
            "Namespaces are one honking great idea -- let's do more of those!\n"
          ]
        }
      ],
      "source": [
        "# code goes here\n",
        "import this"
      ]
    },
    {
      "cell_type": "markdown",
      "metadata": {
        "id": "1iGPrmDF8f81"
      },
      "source": [
        "## Variables"
      ]
    },
    {
      "cell_type": "markdown",
      "metadata": {
        "id": "x3x84uA78f81"
      },
      "source": [
        "### What is a Variable?"
      ]
    },
    {
      "cell_type": "markdown",
      "metadata": {
        "id": "1fnPWWnq8f82"
      },
      "source": [
        "* A **variable** is a named storage location used to hold and represent data within a computer program.\n",
        "* It serves as a symbolic representation of a value that can be accessed and manipulated by the program during its execution.\n",
        "* Variables allow programmers to store and manage data of various types, such as *numbers*, *text*, and *objects*, making it easier to perform computations, process information, and control the flow of a program.\n",
        "* When a variable is created, it is allocated a specific memory location in the computer's memory, and the data assigned to that variable is stored at that location.\n",
        "* The value stored in a variable can be changed or updated during the program's execution, which is why the term *variable* is used, as it can vary over time.\n",
        "* Variables play a crucial role in programming, as they enable the reuse and manipulation of data, making code more efficient and flexible."
      ]
    },
    {
      "cell_type": "code",
      "execution_count": null,
      "metadata": {
        "colab": {
          "base_uri": "https://localhost:8080/"
        },
        "id": "JUQTxIFq8f82",
        "outputId": "00c71bc1-f227-4745-bfae-312eb61f64e7"
      },
      "outputs": [
        {
          "output_type": "stream",
          "name": "stdout",
          "text": [
            "My name is Margaret\n"
          ]
        }
      ],
      "source": [
        "# code goes here\n",
        "\n",
        "sentence =\"My name is Margaret\"\n",
        "print (sentence)"
      ]
    },
    {
      "cell_type": "code",
      "source": [],
      "metadata": {
        "id": "0MO3wt1XDq-L"
      },
      "execution_count": null,
      "outputs": []
    },
    {
      "cell_type": "code",
      "source": [
        "print (sentence)"
      ],
      "metadata": {
        "id": "INVvHlenDYT8"
      },
      "execution_count": null,
      "outputs": []
    },
    {
      "cell_type": "code",
      "source": [
        "#variable a to store valie 5\n",
        "a = 5\n",
        "#variable b to to store value 6\n",
        "b = 6\n",
        "sum = a + b\n",
        "print(sum)"
      ],
      "metadata": {
        "colab": {
          "base_uri": "https://localhost:8080/"
        },
        "id": "_4eejePUD-3p",
        "outputId": "993b2785-0157-4f39-d320-710b42f6a9fd"
      },
      "execution_count": null,
      "outputs": [
        {
          "output_type": "stream",
          "name": "stdout",
          "text": [
            "11\n"
          ]
        }
      ]
    },
    {
      "cell_type": "markdown",
      "source": [
        "print(sentence)"
      ],
      "metadata": {
        "id": "uUmIY4i9DLUW"
      }
    },
    {
      "cell_type": "markdown",
      "metadata": {
        "id": "q6jqMJcj8f83"
      },
      "source": [
        "### Importance of variables in storing and managing data during program execution."
      ]
    },
    {
      "cell_type": "markdown",
      "metadata": {
        "id": "nsD8DrUH8f83"
      },
      "source": [
        "* **Data Storage**: Variables act as containers for holding different types of data, such as numbers, strings, lists, and more"
      ]
    },
    {
      "cell_type": "code",
      "source": [],
      "metadata": {
        "id": "qzTSkAHBG-rM"
      },
      "execution_count": null,
      "outputs": []
    },
    {
      "cell_type": "code",
      "execution_count": null,
      "metadata": {
        "id": "v7o5RaSP8f83",
        "colab": {
          "base_uri": "https://localhost:8080/"
        },
        "outputId": "35be01ff-13eb-45e0-be84-94f59c9f6bf7"
      },
      "outputs": [
        {
          "output_type": "stream",
          "name": "stdout",
          "text": [
            "Margaret\n"
          ]
        }
      ],
      "source": [
        "# code goes here\n",
        "first_name = \"Margaret\"\n",
        "print(first_name)\n"
      ]
    },
    {
      "cell_type": "code",
      "source": [
        "#variable send name\n",
        "second_name = \"Adhis\"\n",
        "print(second_name)"
      ],
      "metadata": {
        "colab": {
          "base_uri": "https://localhost:8080/"
        },
        "id": "nvO4za72HH92",
        "outputId": "ab1458e0-f19e-4918-99a4-3a25fe449621"
      },
      "execution_count": null,
      "outputs": [
        {
          "output_type": "stream",
          "name": "stdout",
          "text": [
            "Adhis\n"
          ]
        }
      ]
    },
    {
      "cell_type": "code",
      "source": [
        "print(first_name,second_name)"
      ],
      "metadata": {
        "colab": {
          "base_uri": "https://localhost:8080/"
        },
        "id": "bZMlR2dcHh6t",
        "outputId": "14017198-750b-4c8a-8310-7ef3035c110d"
      },
      "execution_count": null,
      "outputs": [
        {
          "output_type": "stream",
          "name": "stdout",
          "text": [
            "Margaret Adhis\n"
          ]
        }
      ]
    },
    {
      "cell_type": "markdown",
      "metadata": {
        "id": "YZWYr0CS8f83"
      },
      "source": [
        "* **Data Manipulation**: By storing data in variables, programmers can easily manipulate and process it."
      ]
    },
    {
      "cell_type": "code",
      "execution_count": null,
      "metadata": {
        "colab": {
          "base_uri": "https://localhost:8080/",
          "height": 235
        },
        "id": "QGV4ffda8f83",
        "outputId": "0bc9c907-2cbe-47df-d2f0-904fc2b3bf47"
      },
      "outputs": [
        {
          "output_type": "error",
          "ename": "NameError",
          "evalue": "ignored",
          "traceback": [
            "\u001b[0;31m---------------------------------------------------------------------------\u001b[0m",
            "\u001b[0;31mNameError\u001b[0m                                 Traceback (most recent call last)",
            "\u001b[0;32m<ipython-input-3-5b546a877116>\u001b[0m in \u001b[0;36m<cell line: 3>\u001b[0;34m()\u001b[0m\n\u001b[1;32m      1\u001b[0m \u001b[0;31m# code goes here\u001b[0m\u001b[0;34m\u001b[0m\u001b[0;34m\u001b[0m\u001b[0m\n\u001b[1;32m      2\u001b[0m \u001b[0;31m#manipulating text\u001b[0m\u001b[0;34m\u001b[0m\u001b[0;34m\u001b[0m\u001b[0m\n\u001b[0;32m----> 3\u001b[0;31m \u001b[0mprint\u001b[0m\u001b[0;34m(\u001b[0m\u001b[0msecond_name\u001b[0m\u001b[0;34m.\u001b[0m\u001b[0mupper\u001b[0m\u001b[0;34m(\u001b[0m\u001b[0;34m)\u001b[0m\u001b[0;34m)\u001b[0m\u001b[0;34m\u001b[0m\u001b[0;34m\u001b[0m\u001b[0m\n\u001b[0m\u001b[1;32m      4\u001b[0m \u001b[0mprint\u001b[0m\u001b[0;34m(\u001b[0m\u001b[0msecond_name\u001b[0m\u001b[0;34m.\u001b[0m\u001b[0mlower\u001b[0m\u001b[0;34m(\u001b[0m\u001b[0;34m)\u001b[0m\u001b[0;34m)\u001b[0m\u001b[0;34m\u001b[0m\u001b[0;34m\u001b[0m\u001b[0m\n\u001b[1;32m      5\u001b[0m \u001b[0;31m#other form of concertinating\u001b[0m\u001b[0;34m\u001b[0m\u001b[0;34m\u001b[0m\u001b[0m\n",
            "\u001b[0;31mNameError\u001b[0m: name 'second_name' is not defined"
          ]
        }
      ],
      "source": [
        "# code goes here\n",
        "#manipulating text\n",
        "print(second_name.upper())\n",
        "print(second_name.lower())\n",
        "#other form of concertinating\n",
        "second_name = \"Adhis\"\n",
        "print(first_name + \" \"+ second_name)\n"
      ]
    },
    {
      "cell_type": "markdown",
      "metadata": {
        "id": "dzSyD3iu8f83"
      },
      "source": [
        "* **Data Reusability**: Once data is stored in variables, it becomes reusable throughout the program. Instead of having to re-enter or recalculate data, variables allow programmers to use the same data multiple times, reducing redundancy and improving code readability."
      ]
    },
    {
      "cell_type": "code",
      "execution_count": null,
      "metadata": {
        "colab": {
          "base_uri": "https://localhost:8080/"
        },
        "id": "guGbOav_8f84",
        "outputId": "731444f9-1396-471b-f374-96033a484ffd"
      },
      "outputs": [
        {
          "output_type": "stream",
          "name": "stdout",
          "text": [
            "1\n"
          ]
        }
      ],
      "source": [
        "# code goes here\n",
        "#variable to store difference between 6 -5\n",
        "#remember 6 and 5 were introduced above\n",
        "difference =b - a\n",
        "\n",
        "print(difference)"
      ]
    },
    {
      "cell_type": "markdown",
      "metadata": {
        "id": "XNzU6VpX8f84"
      },
      "source": [
        "* **Program Flow Control**: Variables are often used in control structures such as loops and conditional statements."
      ]
    },
    {
      "cell_type": "code",
      "execution_count": null,
      "metadata": {
        "colab": {
          "base_uri": "https://localhost:8080/"
        },
        "id": "q38noOZc8f84",
        "outputId": "3493b853-a456-42e5-dc88-bf9ccffbc41d"
      },
      "outputs": [
        {
          "output_type": "stream",
          "name": "stdout",
          "text": [
            "M\n",
            "a\n",
            "r\n",
            "g\n",
            "a\n",
            "r\n",
            "e\n",
            "t\n"
          ]
        }
      ],
      "source": [
        "#printing letter in first name\n",
        "# codes goes here\n",
        "#variable called first_name\n",
        "#for loop demo\n",
        "for letter in first_name:\n",
        "   print(letter)\n"
      ]
    },
    {
      "cell_type": "markdown",
      "metadata": {
        "id": "VD2mquPz8f84"
      },
      "source": [
        "### Rules for naming variables in Python."
      ]
    },
    {
      "cell_type": "markdown",
      "metadata": {
        "id": "xRwspdl68f84"
      },
      "source": [
        "* **Valid Characters**: Variable names can contain letters ```(a-z, A-Z)```, digits ```(0-9)```, and underscores ```(_)```. They **cannot** start with a digit. For instance, you can call a variable ```message_1``` but not ```1_message```.\n",
        "\n",
        "* **No Special Characters**: Variable names should not include spaces or any special characters like ```!```, ```@```,``` #```,``` $```,``` %```, etc.\n",
        "\n",
        "* **Case-Sensitivity**: Python variable names are case-sensitive, meaning that variables with different letter cases are considered distinct. For example, ```name```, ```Name```, and ```NAME``` are three different variables.\n",
        "\n",
        "* **Reserved Keywords**: Avoid using Python's reserved keywords as variable names, as they have predefined meanings in the language. Some examples of reserved keywords include ```if```, ```else```, ```while```, ```for```, ```def```, ```class```, ```import```, and ```True```.\n",
        "\n",
        "* **Descriptive and Readable**: Choose descriptive and meaningful variable names that convey the purpose or content of the data they store. This improves the code's readability and makes it easier for others (and your future self) to understand the code.\n",
        "\n",
        "* **Snake Case**: In Python, the convention for multi-word variable names is to use snake case, which involves writing all lowercase letters and separating words with underscores. For example, ```user_age```, ```item_list```, and ```total_count``` are all valid snake case variable names.\n",
        "\n",
        "* **Length Limitation**: While Python allows variable names of any length, it's advisable to keep them reasonably concise to avoid excessive typing and enhance code readability."
      ]
    },
    {
      "cell_type": "markdown",
      "metadata": {
        "id": "BasmUw-J8f85"
      },
      "source": [
        "### Avoiding Name Errors When Using Variables"
      ]
    },
    {
      "cell_type": "markdown",
      "metadata": {
        "id": "y06lbD6G8f85"
      },
      "source": [
        "* Every programmer makes mistakes, and most make mistakes every day.\n",
        "* This Mistakes will results into errors, and good programmers know how to respond to those error efficiently."
      ]
    },
    {
      "cell_type": "code",
      "execution_count": null,
      "metadata": {
        "colab": {
          "base_uri": "https://localhost:8080/",
          "height": 201
        },
        "id": "i86oB89s8f85",
        "outputId": "8741274d-1969-46f1-f70c-a40c4ce98199"
      },
      "outputs": [
        {
          "output_type": "error",
          "ename": "NameError",
          "evalue": "ignored",
          "traceback": [
            "\u001b[0;31m---------------------------------------------------------------------------\u001b[0m",
            "\u001b[0;31mNameError\u001b[0m                                 Traceback (most recent call last)",
            "\u001b[0;32m<ipython-input-25-2fb710500363>\u001b[0m in \u001b[0;36m<cell line: 3>\u001b[0;34m()\u001b[0m\n\u001b[1;32m      1\u001b[0m \u001b[0;31m# code goes here\u001b[0m\u001b[0;34m\u001b[0m\u001b[0;34m\u001b[0m\u001b[0m\n\u001b[1;32m      2\u001b[0m \u001b[0;31m#spelling mistake\u001b[0m\u001b[0;34m\u001b[0m\u001b[0;34m\u001b[0m\u001b[0m\n\u001b[0;32m----> 3\u001b[0;31m \u001b[0mprint\u001b[0m\u001b[0;34m(\u001b[0m\u001b[0mfist_name\u001b[0m\u001b[0;34m)\u001b[0m\u001b[0;34m\u001b[0m\u001b[0;34m\u001b[0m\u001b[0m\n\u001b[0m",
            "\u001b[0;31mNameError\u001b[0m: name 'fist_name' is not defined"
          ]
        }
      ],
      "source": [
        "# code goes here\n",
        "#spelling mistake\n",
        "print(fist_name)"
      ]
    },
    {
      "cell_type": "code",
      "source": [
        "#error in case sentive\n",
        "print(First_name)"
      ],
      "metadata": {
        "colab": {
          "base_uri": "https://localhost:8080/",
          "height": 183
        },
        "id": "Hm20r2ffO0zq",
        "outputId": "7b82ba7d-df88-41f2-f518-b5e9c03bb1d7"
      },
      "execution_count": null,
      "outputs": [
        {
          "output_type": "error",
          "ename": "NameError",
          "evalue": "ignored",
          "traceback": [
            "\u001b[0;31m---------------------------------------------------------------------------\u001b[0m",
            "\u001b[0;31mNameError\u001b[0m                                 Traceback (most recent call last)",
            "\u001b[0;32m<ipython-input-26-e86624ad05e9>\u001b[0m in \u001b[0;36m<cell line: 2>\u001b[0;34m()\u001b[0m\n\u001b[1;32m      1\u001b[0m \u001b[0;31m#error in case sentive\u001b[0m\u001b[0;34m\u001b[0m\u001b[0;34m\u001b[0m\u001b[0m\n\u001b[0;32m----> 2\u001b[0;31m \u001b[0mprint\u001b[0m\u001b[0;34m(\u001b[0m\u001b[0mFirst_name\u001b[0m\u001b[0;34m)\u001b[0m\u001b[0;34m\u001b[0m\u001b[0;34m\u001b[0m\u001b[0m\n\u001b[0m",
            "\u001b[0;31mNameError\u001b[0m: name 'First_name' is not defined"
          ]
        }
      ]
    },
    {
      "cell_type": "code",
      "source": [
        "dad = \"rest in peace\"\n",
        "print(dad)\n",
        "dad = \"rest in peace\"\n",
        "print(dad)\n",
        "print(dad.upper())"
      ],
      "metadata": {
        "colab": {
          "base_uri": "https://localhost:8080/"
        },
        "id": "hzhJA6V0QXit",
        "outputId": "2726603c-b19e-41f3-ad41-4f6ba8204554"
      },
      "execution_count": null,
      "outputs": [
        {
          "output_type": "stream",
          "name": "stdout",
          "text": [
            "rest in peace\n",
            "rest in peace\n",
            "REST IN PEACE\n"
          ]
        }
      ]
    },
    {
      "cell_type": "markdown",
      "metadata": {
        "id": "wfS_NO2i8f85"
      },
      "source": [
        "* Python Interpreter does its best to help you figure out where the problem is by providing a **traceback**.\n",
        "* A *traceback* is a record of where a the interpreter ran into trouble when trying to excute your code.\n",
        "* A **name error** usually means we either forgot to set a variable’s value before using it, or we made a spelling mistake when entering the variable’s name."
      ]
    },
    {
      "cell_type": "markdown",
      "metadata": {
        "id": "uWO5NmO18f9E"
      },
      "source": [
        "<details>\n",
        "    <summary>📝</summary>\n",
        "\n",
        "    In the whimsical realm of programming, tiny typos and one-character errors amuse even seasoned wizards of code! Like mischievous gremlins, they love to play tricks, leading programmers on wild goose chases. But fear not, for these humorous escapades are a common part of the journey. Embrace the challenge with laughter and patience, celebrating each victory as you outwit those pesky bugs. Picture yourself as a fearless code-warrior, chasing golden snitches in the mystical world of coding. So, laugh it off, for with each typo found, you become a more skilled and resilient programmer. Happy coding, and may the debug force be with you on this enchanting quest! 🚀😄\n",
        "    \n",
        "</details>"
      ]
    },
    {
      "cell_type": "markdown",
      "metadata": {
        "id": "smJ2ptzg8f9F"
      },
      "source": [
        "### Knock yourself out"
      ]
    },
    {
      "cell_type": "markdown",
      "metadata": {
        "id": "5CHe_BvN8f9F"
      },
      "source": [
        "1. Assign a message to a variable, and then print that message.\n",
        "2. Change the value of the variable to a new message, and print the new message."
      ]
    },
    {
      "cell_type": "markdown",
      "metadata": {
        "id": "r_fb0AXY8f9F"
      },
      "source": [
        "## Data Types"
      ]
    },
    {
      "cell_type": "markdown",
      "metadata": {
        "id": "gUGFCKkN8f9F"
      },
      "source": [
        "* **Data types** define the type of data that can be stored in a variable or used in a program.\n",
        "* Each programming language has a set of built-in data types to represent different kinds of values, such as numbers, characters, strings, and more complex structures like arrays and objects.\n",
        "Common data types include ```integers (int)```, ```floating-point numbers (float)```, ```characters (char)```, ```strings (str)```, ```Boolean values (bool)```, and many others.\n",
        "* Data types help determine the operations that can be performed on the data and the amount of memory required to store it."
      ]
    },
    {
      "cell_type": "code",
      "source": [],
      "metadata": {
        "id": "lQbwHmeRF9BR"
      },
      "execution_count": null,
      "outputs": []
    },
    {
      "cell_type": "code",
      "source": [
        "age = 45\n",
        "age2 = 45.2\n",
        "book = \"swimming\"\n",
        "name_school = True\n",
        "print(type(age))\n",
        "print(type(age2))\n",
        "print(type(book))\n",
        "print(type(name_school))\n",
        "# printing all in one\n",
        "print(type(age),type(book))\n"
      ],
      "metadata": {
        "colab": {
          "base_uri": "https://localhost:8080/"
        },
        "id": "hzXCuyE1RiQ7",
        "outputId": "34eed053-a460-44ca-e1de-370fd9491c49"
      },
      "execution_count": null,
      "outputs": [
        {
          "output_type": "stream",
          "name": "stdout",
          "text": [
            "<class 'int'>\n",
            "<class 'float'>\n",
            "<class 'str'>\n",
            "<class 'bool'>\n",
            "<class 'int'> <class 'str'>\n"
          ]
        }
      ]
    },
    {
      "cell_type": "code",
      "execution_count": null,
      "metadata": {
        "id": "66gM6Ikk8f9F"
      },
      "outputs": [],
      "source": [
        "# code goes here"
      ]
    },
    {
      "cell_type": "markdown",
      "metadata": {
        "id": "uOr1CdwX8f9G"
      },
      "source": [
        "### Strings"
      ]
    },
    {
      "cell_type": "markdown",
      "metadata": {
        "id": "GV_brs0B8f9G"
      },
      "source": [
        "A **string** is a series of characters. Anything inside quotes is considered a string in Python, and you can use single or double quotes around your strings like this:"
      ]
    },
    {
      "cell_type": "code",
      "execution_count": null,
      "metadata": {
        "id": "ZzRyQVXU8f9G",
        "colab": {
          "base_uri": "https://localhost:8080/"
        },
        "outputId": "08a893ed-3297-4de9-f89e-b2775bbb6d0d"
      },
      "outputs": [
        {
          "output_type": "stream",
          "name": "stdout",
          "text": [
            "margaret\n",
            "Adhis\n"
          ]
        }
      ],
      "source": [
        "# code goes here\n",
        "first_name = \"margaret\"\n",
        "second_name = 'adhis'\n",
        "print(first_name)\n",
        "print(second_name.title())"
      ]
    },
    {
      "cell_type": "markdown",
      "metadata": {
        "id": "Z7TYM3f_8f9G"
      },
      "source": [
        "* This flexibility allows you to use quotes and apostrophes within your string"
      ]
    },
    {
      "cell_type": "code",
      "execution_count": null,
      "metadata": {
        "id": "MhGUwent8f9G",
        "colab": {
          "base_uri": "https://localhost:8080/"
        },
        "outputId": "4ab1fa85-93d9-42e5-c7a7-59254a280dbb"
      },
      "outputs": [
        {
          "output_type": "stream",
          "name": "stdout",
          "text": [
            "margaret's song\n",
            "muiko's computer\n"
          ]
        }
      ],
      "source": [
        "# Use of quotes and apostrophe within strings\n",
        "speech =\"margaret's song\"\n",
        "print(speech)\n",
        "# any time use an appostrophe use double quote\n",
        "error_word = \"muiko's computer\"\n",
        "print(error_word)"
      ]
    },
    {
      "cell_type": "markdown",
      "metadata": {
        "id": "N_no3BjO8f9H"
      },
      "source": [
        "#### Changing Case in a string with Methods"
      ]
    },
    {
      "cell_type": "markdown",
      "metadata": {
        "id": "qUCFrJax8f9H"
      },
      "source": [
        "* One simple task you can do with strings is change the case of the words in a string."
      ]
    },
    {
      "cell_type": "code",
      "execution_count": null,
      "metadata": {
        "id": "GMsoSAWA8f9H"
      },
      "outputs": [],
      "source": [
        "# code goes here\n"
      ]
    },
    {
      "cell_type": "markdown",
      "metadata": {
        "id": "_k4M5EtW8f9N"
      },
      "source": [
        "* ```title()``` - Changes each word to title case, where each word begins with a capital letter.\n",
        "* ```lower()``` - changes a string to all lowercase.\n",
        "* ```upper()``` -   CHANGES A STRING TO ALL UPPERCASE."
      ]
    },
    {
      "cell_type": "code",
      "execution_count": null,
      "metadata": {
        "id": "Ppl9unVj8f9N",
        "colab": {
          "base_uri": "https://localhost:8080/",
          "height": 201
        },
        "outputId": "88bb650c-db57-4c37-a437-8184c72e8923"
      },
      "outputs": [
        {
          "output_type": "error",
          "ename": "NameError",
          "evalue": "ignored",
          "traceback": [
            "\u001b[0;31m---------------------------------------------------------------------------\u001b[0m",
            "\u001b[0;31mNameError\u001b[0m                                 Traceback (most recent call last)",
            "\u001b[0;32m<ipython-input-7-ba9980a8d1d1>\u001b[0m in \u001b[0;36m<cell line: 2>\u001b[0;34m()\u001b[0m\n\u001b[1;32m      1\u001b[0m \u001b[0;31m# code goes here\u001b[0m\u001b[0;34m\u001b[0m\u001b[0;34m\u001b[0m\u001b[0m\n\u001b[0;32m----> 2\u001b[0;31m \u001b[0mprint\u001b[0m\u001b[0;34m(\u001b[0m\u001b[0mfirst_name\u001b[0m\u001b[0;34m)\u001b[0m\u001b[0;34m\u001b[0m\u001b[0;34m\u001b[0m\u001b[0m\n\u001b[0m\u001b[1;32m      3\u001b[0m \u001b[0mprint\u001b[0m\u001b[0;34m(\u001b[0m\u001b[0msecond_name\u001b[0m\u001b[0;34m)\u001b[0m\u001b[0;34m\u001b[0m\u001b[0;34m\u001b[0m\u001b[0m\n",
            "\u001b[0;31mNameError\u001b[0m: name 'first_name' is not defined"
          ]
        }
      ],
      "source": [
        "# code goes here\n",
        "print(first_name)\n",
        "print(second_name)"
      ]
    },
    {
      "cell_type": "markdown",
      "metadata": {
        "id": "oClQfHe48f9N"
      },
      "source": [
        "#### Using variables in strings"
      ]
    },
    {
      "cell_type": "markdown",
      "metadata": {
        "id": "S4iim-7a8f9N"
      },
      "source": [
        "* In some situations, you'll want to use a variable's value inside a string."
      ]
    },
    {
      "cell_type": "code",
      "execution_count": null,
      "metadata": {
        "id": "bvJy1RGf8f9N",
        "colab": {
          "base_uri": "https://localhost:8080/",
          "height": 183
        },
        "outputId": "52e6407f-4f1f-4de8-d779-86d32642d56d"
      },
      "outputs": [
        {
          "output_type": "error",
          "ename": "NameError",
          "evalue": "ignored",
          "traceback": [
            "\u001b[0;31m---------------------------------------------------------------------------\u001b[0m",
            "\u001b[0;31mNameError\u001b[0m                                 Traceback (most recent call last)",
            "\u001b[0;32m<ipython-input-6-bba29e090cf6>\u001b[0m in \u001b[0;36m<cell line: 1>\u001b[0;34m()\u001b[0m\n\u001b[0;32m----> 1\u001b[0;31m \u001b[0mprint\u001b[0m\u001b[0;34m(\u001b[0m\u001b[0mfirst_name\u001b[0m\u001b[0;34m)\u001b[0m\u001b[0;34m\u001b[0m\u001b[0;34m\u001b[0m\u001b[0m\n\u001b[0m\u001b[1;32m      2\u001b[0m \u001b[0mprint\u001b[0m\u001b[0;34m(\u001b[0m\u001b[0msecond_name\u001b[0m\u001b[0;34m)\u001b[0m\u001b[0;34m\u001b[0m\u001b[0;34m\u001b[0m\u001b[0m\n",
            "\u001b[0;31mNameError\u001b[0m: name 'first_name' is not defined"
          ]
        }
      ],
      "source": [
        "\n"
      ]
    },
    {
      "cell_type": "markdown",
      "metadata": {
        "id": "hprczEWK8f9O"
      },
      "source": [
        "1. ```f-strings``` - Python formats the string by replacing the name of any variable in braces with its value."
      ]
    },
    {
      "cell_type": "code",
      "execution_count": null,
      "metadata": {
        "id": "IbbGZMfA8f9O",
        "colab": {
          "base_uri": "https://localhost:8080/",
          "height": 131
        },
        "outputId": "43454a43-264a-4b89-8e0d-cfd5a408d1ee"
      },
      "outputs": [
        {
          "output_type": "error",
          "ename": "SyntaxError",
          "evalue": "ignored",
          "traceback": [
            "\u001b[0;36m  File \u001b[0;32m\"<ipython-input-12-907742d11a09>\"\u001b[0;36m, line \u001b[0;32m5\u001b[0m\n\u001b[0;31m    speech = f\"Ane said \\\"what is the matter\"\\ \"\u001b[0m\n\u001b[0m                                              ^\u001b[0m\n\u001b[0;31mSyntaxError\u001b[0m\u001b[0;31m:\u001b[0m unexpected character after line continuation character\n"
          ]
        }
      ],
      "source": [
        "# code goes here\n",
        "age = 45\n",
        "margaret = f\"i am {age} old\"\n",
        "print(margaret)\n",
        "speech = f\"Ane said \\\"what is the matter\"\\ \"\n",
        "print(speech)"
      ]
    },
    {
      "cell_type": "code",
      "source": [
        "rows = 120\n",
        "print(f'the data set has {rows} rows')"
      ],
      "metadata": {
        "colab": {
          "base_uri": "https://localhost:8080/"
        },
        "id": "RuJ5g-LBU8qh",
        "outputId": "7cba4517-7164-440c-96c8-dbf1eabad48d"
      },
      "execution_count": null,
      "outputs": [
        {
          "output_type": "stream",
          "name": "stdout",
          "text": [
            "the data set has 120 rows\n"
          ]
        }
      ]
    },
    {
      "cell_type": "markdown",
      "metadata": {
        "id": "F_RzI38-8f9O"
      },
      "source": [
        "2. ```format``` - longer version of f-strings."
      ]
    },
    {
      "cell_type": "code",
      "execution_count": null,
      "metadata": {
        "id": "d8Q0sxNO8f9O",
        "colab": {
          "base_uri": "https://localhost:8080/"
        },
        "outputId": "d76b7518-fd76-4bd3-b62d-c3d3fe5e8121"
      },
      "outputs": [
        {
          "output_type": "stream",
          "name": "stdout",
          "text": [
            "The data has 120 rows\n"
          ]
        }
      ],
      "source": [
        "# code goes here\n",
        "print('The data has {} rows'.format(rows))\n"
      ]
    },
    {
      "cell_type": "code",
      "source": [
        "first_name = \"margaret\"\n",
        "second_name = 'adhis'\n",
        "class_score = \"The student {} {} scored the lowest score in class.\".format(first_name,second_name)\n",
        "print(class_score)"
      ],
      "metadata": {
        "colab": {
          "base_uri": "https://localhost:8080/"
        },
        "id": "ehR8OtNCWB6a",
        "outputId": "b1c05f6f-d664-43d3-a7fb-03d0f1f4c7b4"
      },
      "execution_count": null,
      "outputs": [
        {
          "output_type": "stream",
          "name": "stdout",
          "text": [
            "The student margaret adhis scored the lowest score in class.\n"
          ]
        }
      ]
    },
    {
      "cell_type": "markdown",
      "metadata": {
        "id": "1BrujiEm8f9O"
      },
      "source": [
        "3. ```concatenation``` - using the ```+``` sign to join strings."
      ]
    },
    {
      "cell_type": "code",
      "execution_count": null,
      "metadata": {
        "id": "7KSUqgu68f9O",
        "colab": {
          "base_uri": "https://localhost:8080/",
          "height": 35
        },
        "outputId": "49017e0f-b94f-4954-9c69-5ff2fa1a5c92"
      },
      "outputs": [
        {
          "output_type": "execute_result",
          "data": {
            "text/plain": [
              "'11'"
            ],
            "application/vnd.google.colaboratory.intrinsic+json": {
              "type": "string"
            }
          },
          "metadata": {},
          "execution_count": 17
        }
      ],
      "source": [
        "# code goes here\n",
        "'1' + '1'"
      ]
    },
    {
      "cell_type": "code",
      "source": [
        "my_name = first_name.title() + \" \" + second_name.title() + \".\"\n",
        "print(my_name)"
      ],
      "metadata": {
        "colab": {
          "base_uri": "https://localhost:8080/"
        },
        "id": "vuo0Hbn6YR_o",
        "outputId": "81a43244-dea4-4ca1-c5bc-a7e1bab123b0"
      },
      "execution_count": null,
      "outputs": [
        {
          "output_type": "stream",
          "name": "stdout",
          "text": [
            "Margaret Adhis.\n"
          ]
        }
      ]
    },
    {
      "cell_type": "code",
      "source": [],
      "metadata": {
        "id": "ZukhK_BCZb3w"
      },
      "execution_count": null,
      "outputs": []
    },
    {
      "cell_type": "markdown",
      "source": [
        "#heading"
      ],
      "metadata": {
        "id": "TlSQhHOMZ7ar"
      }
    },
    {
      "cell_type": "code",
      "source": [],
      "metadata": {
        "id": "cRJEaSZ5Z7MY"
      },
      "execution_count": null,
      "outputs": []
    },
    {
      "cell_type": "markdown",
      "metadata": {
        "id": "aasQVy328f9P"
      },
      "source": [
        "#### Adding Whitespace to Strings with Tabs or Newlines"
      ]
    },
    {
      "cell_type": "markdown",
      "metadata": {
        "id": "Ig57Fjfg8f9P"
      },
      "source": [
        "* **Whitespace** refers to any nonprinting character, such as *spaces*, *tabs*, and *end-of-line symbols*.\n",
        "* Use whitespaces to organize your output so it's easier for users to read."
      ]
    },
    {
      "cell_type": "markdown",
      "metadata": {
        "id": "YINt9CMD8f9P"
      },
      "source": [
        "1. tab - use character combination ```\\t```."
      ]
    },
    {
      "cell_type": "code",
      "execution_count": null,
      "metadata": {
        "id": "wDGZI8QZ8f9P",
        "colab": {
          "base_uri": "https://localhost:8080/"
        },
        "outputId": "e1ee55bd-f224-4495-9966-d595783ac558"
      },
      "outputs": [
        {
          "output_type": "stream",
          "name": "stdout",
          "text": [
            "1. \tAntonny Muiko 2. \tMargaret Ochieng 3. \tIda Ochieng 4. \tEverlyne Simiyu\n"
          ]
        }
      ],
      "source": [
        "# code goes here\n",
        "print(\"1. \\tAntonny Muiko 2. \\tMargaret Ochieng 3. \\tIda Ochieng 4. \\tEverlyne Simiyu\")"
      ]
    },
    {
      "cell_type": "markdown",
      "metadata": {
        "id": "MqFTHaH68f9P"
      },
      "source": [
        "2. newline - use character combination ```\\n```."
      ]
    },
    {
      "cell_type": "code",
      "execution_count": 2,
      "metadata": {
        "id": "o3a73kCb8f9P",
        "colab": {
          "base_uri": "https://localhost:8080/",
          "height": 0
        },
        "outputId": "18401dab-b616-48ae-f08a-073054ec2294"
      },
      "outputs": [
        {
          "output_type": "stream",
          "name": "stdout",
          "text": [
            "\n",
            "1.\tAntonny Muiko 2. \n",
            "Margaret Ochieng 3. \n",
            "Ida Ochieng 4.\tEverlyne Simiyu\n"
          ]
        }
      ],
      "source": [
        "# code goes here\n",
        "print(\"\\n1.\\tAntonny Muiko 2. \\nMargaret Ochieng 3. \\nIda Ochieng 4.\\tEverlyne Simiyu\")"
      ]
    },
    {
      "cell_type": "code",
      "source": [
        "print(\"1.\\tAntonny Muiko\\n2.\\tMargaret Ochieng\\n3.\\tIda Ochieng\\n4.\\tEverlyne Simiyu\")"
      ],
      "metadata": {
        "colab": {
          "base_uri": "https://localhost:8080/"
        },
        "id": "lcgpQfz0cY7f",
        "outputId": "b06a3c64-031a-4c4d-b8fd-e4d20b568658"
      },
      "execution_count": null,
      "outputs": [
        {
          "output_type": "stream",
          "name": "stdout",
          "text": [
            "1.\tAntonny Muiko\n",
            "2.\tMargaret Ochieng\n",
            "3.\tIda Ochieng\n",
            "4.\tEverlyne Simiyu\n"
          ]
        }
      ]
    },
    {
      "cell_type": "markdown",
      "metadata": {
        "id": "jKXcU8Q78f9R"
      },
      "source": [
        "#### Stripping WhiteSpace"
      ]
    },
    {
      "cell_type": "markdown",
      "metadata": {
        "id": "DpnQfe0U8f9R"
      },
      "source": [
        "Well, whitespaces are not always a bed of roses, sometimes they can be *thorny*!! Extra whitespaces can be confusing in your programs.\n",
        "\n",
        "'Moringa' and 'Moringa ' look pretty much the same, but to a program they are two different strings, as python interpreter will detect the extra space and considers it significant unless you tell it otherwise.\n",
        "\n",
        "* ```rstrip()``` - Ensure that no whitespaces exists at the right end of a string.\n",
        "* ```lstrip()``` - Ensure that no whitespaces exists at the left end of a string.\n",
        "* ```strip()``` - What do you think?"
      ]
    },
    {
      "cell_type": "code",
      "execution_count": null,
      "metadata": {
        "id": "URe586E98f9S",
        "colab": {
          "base_uri": "https://localhost:8080/"
        },
        "outputId": "e62a585b-5a87-438e-96f9-514cacd622db"
      },
      "outputs": [
        {
          "output_type": "stream",
          "name": "stdout",
          "text": [
            " Moringa\n",
            "Moringa  \n",
            " Moringa \n"
          ]
        }
      ],
      "source": [
        "# code goes here\n",
        "first_word = ' Moringa'\n",
        "second_word = 'Moringa  '\n",
        "third_word = ' Moringa '\n",
        "print(first_word)\n",
        "print(second_word)\n",
        "print(third_word)\n"
      ]
    },
    {
      "cell_type": "markdown",
      "metadata": {
        "id": "ufnhRYSd8f9S"
      },
      "source": [
        "#### Avoiding Syntax Errors with Strings"
      ]
    },
    {
      "cell_type": "markdown",
      "metadata": {
        "id": "lN1_dGGH8f9T"
      },
      "source": [
        "* **Syntax error** occurs when python doesn't recognize a section of your program as valid python code."
      ]
    },
    {
      "cell_type": "code",
      "execution_count": null,
      "metadata": {
        "id": "6HtqznTU8f9T",
        "colab": {
          "base_uri": "https://localhost:8080/",
          "height": 131
        },
        "outputId": "fa97332a-f34a-4d77-c96f-7e003abd0d94"
      },
      "outputs": [
        {
          "output_type": "error",
          "ename": "SyntaxError",
          "evalue": "ignored",
          "traceback": [
            "\u001b[0;36m  File \u001b[0;32m\"<ipython-input-31-7792b69ff999>\"\u001b[0;36m, line \u001b[0;32m2\u001b[0m\n\u001b[0;31m    print('Antony's phone)\u001b[0m\n\u001b[0m          ^\u001b[0m\n\u001b[0;31mSyntaxError\u001b[0m\u001b[0;31m:\u001b[0m invalid syntax. Perhaps you forgot a comma?\n"
          ]
        }
      ],
      "source": [
        "# code goes here.\n",
        "print('Antony's phone)"
      ]
    },
    {
      "cell_type": "markdown",
      "metadata": {
        "id": "2JT0NIl78f9T"
      },
      "source": [
        "### Knock yourself out!"
      ]
    },
    {
      "cell_type": "markdown",
      "metadata": {
        "id": "uDAB4zKt8f9U"
      },
      "source": [
        "1. Use a variable to represent a person’s name, and print\n",
        "a message to that person. Your message should be simple, such as, “Hello Eric, would you like to learn some Python today?”\n",
        "2. Create another variable to represent a different person and print the same message to that person.\n",
        "3. Use a variable to represent a person’s name, and then print that person’s name in lowercase,uppercase, and title case.\n",
        "4. Find any quote and Print the\n",
        "quote and the name of its author. Your output should look something like the following, including the quotation marks:\n",
        "*Chambilecho wahenga, \"Chamlevi huliwa na mgema.\"*\n",
        "5. print out the following\n",
        "\n",
        "```\n",
        "the dataset has:\n",
        "    * 25 rows.\n",
        "    * 2 columns.\n",
        "```"
      ]
    },
    {
      "cell_type": "code",
      "execution_count": null,
      "metadata": {
        "id": "IPcHPvtn8f9U",
        "colab": {
          "base_uri": "https://localhost:8080/"
        },
        "outputId": "05fb777c-5573-4969-de26-580ac51e6ab9"
      },
      "outputs": [
        {
          "output_type": "stream",
          "name": "stdout",
          "text": [
            "Hello Eric, would you like to learn some python Today?\n"
          ]
        }
      ],
      "source": [
        "# question 1\n",
        "name = \"Eric\"\n",
        "message = f\"Hello {name}, would you like to learn some python Today?\"\n",
        "print(message)"
      ]
    },
    {
      "cell_type": "code",
      "source": [
        "# question 2\n",
        "name2 = \"Tom\"\n",
        "print(name2)"
      ],
      "metadata": {
        "colab": {
          "base_uri": "https://localhost:8080/"
        },
        "id": "xhfPPjKZ7lO0",
        "outputId": "7796a12a-3bef-444d-f60e-6385707fc3e2"
      },
      "execution_count": null,
      "outputs": [
        {
          "output_type": "stream",
          "name": "stdout",
          "text": [
            "Tom\n"
          ]
        }
      ]
    },
    {
      "cell_type": "code",
      "source": [
        "#question 3\n",
        "sentence= \"eric tom\"\n",
        "print(sentence.upper())\n",
        "print(sentence.lower())\n",
        "print(sentence.title())"
      ],
      "metadata": {
        "colab": {
          "base_uri": "https://localhost:8080/"
        },
        "id": "Hkabv9XZ8pKR",
        "outputId": "65be4f37-1b35-4beb-963a-ceb2837328ae"
      },
      "execution_count": null,
      "outputs": [
        {
          "output_type": "stream",
          "name": "stdout",
          "text": [
            "ERIC TOM\n",
            "eric tom\n",
            "Eric Tom\n"
          ]
        }
      ]
    },
    {
      "cell_type": "code",
      "source": [
        "# question 4\n",
        "print(f'Abigael said, \"mtaka cha mvunguni sharti ainame.\"')\n"
      ],
      "metadata": {
        "id": "euhb-qCn9qG8",
        "colab": {
          "base_uri": "https://localhost:8080/"
        },
        "outputId": "786d2b05-2f41-4e78-c789-fe25ae609e10"
      },
      "execution_count": null,
      "outputs": [
        {
          "output_type": "stream",
          "name": "stdout",
          "text": [
            "Abigael said, \"mtaka cha mvunguni sharti ainame.\"\n"
          ]
        }
      ]
    },
    {
      "cell_type": "code",
      "source": [
        "word = \"the data set has: \\t\\n *25 rows \\t\\n *2 columns\"\n",
        "print(word)"
      ],
      "metadata": {
        "colab": {
          "base_uri": "https://localhost:8080/"
        },
        "id": "NaIVty1ZQzbp",
        "outputId": "2b250c68-8121-498b-8ee2-98d150df8b58"
      },
      "execution_count": 7,
      "outputs": [
        {
          "output_type": "stream",
          "name": "stdout",
          "text": [
            "the data set has: \t\n",
            " *25 rows \t\n",
            " *2 columns\n"
          ]
        }
      ]
    }
  ],
  "metadata": {
    "language_info": {
      "name": "python"
    },
    "orig_nbformat": 4,
    "colab": {
      "provenance": []
    },
    "kernelspec": {
      "name": "python3",
      "display_name": "Python 3"
    }
  },
  "nbformat": 4,
  "nbformat_minor": 0
}